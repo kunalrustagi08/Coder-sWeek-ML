{
  "nbformat": 4,
  "nbformat_minor": 0,
  "metadata": {
    "colab": {
      "name": "day5_tweepy.ipynb",
      "provenance": []
    },
    "kernelspec": {
      "name": "python3",
      "display_name": "Python 3"
    }
  },
  "cells": [
    {
      "cell_type": "code",
      "metadata": {
        "id": "-H_2jUB6eUlB",
        "colab_type": "code",
        "colab": {}
      },
      "source": [
        "import pandas as pd\n",
        "import numpy as np\n",
        "import tweepy \n",
        "from textblob import TextBlob\n",
        "import re "
      ],
      "execution_count": 0,
      "outputs": []
    },
    {
      "cell_type": "code",
      "metadata": {
        "id": "fkp98kwqjJP7",
        "colab_type": "code",
        "colab": {}
      },
      "source": [
        "consumer_key = 'Your consumer key'\n",
        "consumer_secret = 'Your consumer secret'\n",
        "access_token = 'Your access token'\n",
        "access_token_secret = 'Your access token secret'"
      ],
      "execution_count": 0,
      "outputs": []
    },
    {
      "cell_type": "code",
      "metadata": {
        "id": "pDK0wbLfjN8L",
        "colab_type": "code",
        "colab": {}
      },
      "source": [
        "def twitter():\n",
        "    # Creating the authentication object\n",
        "    auth = tweepy.OAuthHandler(consumer_key, consumer_secret) \n",
        "    # Setting your access token and secret\n",
        "    auth.set_access_token(access_token, access_token_secret) \n",
        "    # Creating the API\n",
        "    api = tweepy.API(auth, wait_on_rate_limit = True)  \n",
        "    return api"
      ],
      "execution_count": 0,
      "outputs": []
    },
    {
      "cell_type": "code",
      "metadata": {
        "id": "2KpFR4wQjTkC",
        "colab_type": "code",
        "colab": {}
      },
      "source": [
        "# Creating tw object\n",
        "tw = twitter()"
      ],
      "execution_count": 0,
      "outputs": []
    },
    {
      "cell_type": "code",
      "metadata": {
        "id": "2KEk_xUMjeLs",
        "colab_type": "code",
        "colab": {}
      },
      "source": [
        "search1 = tw.search(q = \"India China\", count = 200)"
      ],
      "execution_count": 0,
      "outputs": []
    },
    {
      "cell_type": "code",
      "metadata": {
        "id": "_q4pCUDHjlue",
        "colab_type": "code",
        "colab": {}
      },
      "source": [
        "search2 = tw.search(q = \"covid\", count = 200, lang =\"en\")"
      ],
      "execution_count": 0,
      "outputs": []
    },
    {
      "cell_type": "markdown",
      "metadata": {
        "id": "w07Aelxwn6eM",
        "colab_type": "text"
      },
      "source": [
        "DataFrame creation"
      ]
    },
    {
      "cell_type": "code",
      "metadata": {
        "id": "lYi1tLpSmLvO",
        "colab_type": "code",
        "colab": {
          "base_uri": "https://localhost:8080/",
          "height": 363
        },
        "outputId": "e4cab2f4-36d9-41db-de41-1d4bf9ac65b0"
      },
      "source": [
        "df1 = pd.DataFrame([tweets.text for tweets in search1],\n",
        "                   columns=['Tweets'])\n",
        "df1.head(10) "
      ],
      "execution_count": 7,
      "outputs": [
        {
          "output_type": "execute_result",
          "data": {
            "text/html": [
              "<div>\n",
              "<style scoped>\n",
              "    .dataframe tbody tr th:only-of-type {\n",
              "        vertical-align: middle;\n",
              "    }\n",
              "\n",
              "    .dataframe tbody tr th {\n",
              "        vertical-align: top;\n",
              "    }\n",
              "\n",
              "    .dataframe thead th {\n",
              "        text-align: right;\n",
              "    }\n",
              "</style>\n",
              "<table border=\"1\" class=\"dataframe\">\n",
              "  <thead>\n",
              "    <tr style=\"text-align: right;\">\n",
              "      <th></th>\n",
              "      <th>Tweets</th>\n",
              "    </tr>\n",
              "  </thead>\n",
              "  <tbody>\n",
              "    <tr>\n",
              "      <th>0</th>\n",
              "      <td>RT @arunrajpaul: Elephant issue was an intelle...</td>\n",
              "    </tr>\n",
              "    <tr>\n",
              "      <th>1</th>\n",
              "      <td>RT @TheWolfpackIN: Frustrated with India becom...</td>\n",
              "    </tr>\n",
              "    <tr>\n",
              "      <th>2</th>\n",
              "      <td>India demands China to remove its troops, stru...</td>\n",
              "    </tr>\n",
              "    <tr>\n",
              "      <th>3</th>\n",
              "      <td>RT @Republic_Bharat: भारत-चीन अधिक जांच करें त...</td>\n",
              "    </tr>\n",
              "    <tr>\n",
              "      <th>4</th>\n",
              "      <td>RT @Saffron_Kashmir: Exit The Dragon!!!!\\nBoyc...</td>\n",
              "    </tr>\n",
              "    <tr>\n",
              "      <th>5</th>\n",
              "      <td>RT @Saffron_Kashmir: Exit The Dragon!!!!\\nBoyc...</td>\n",
              "    </tr>\n",
              "    <tr>\n",
              "      <th>6</th>\n",
              "      <td>RT @Saffron_Kashmir: Exit The Dragon!!!!\\nBoyc...</td>\n",
              "    </tr>\n",
              "    <tr>\n",
              "      <th>7</th>\n",
              "      <td>RT @aajtak: सामाजिक, आर्थिक और राजनीतिक...  हर...</td>\n",
              "    </tr>\n",
              "    <tr>\n",
              "      <th>8</th>\n",
              "      <td>RT @harsh_thapar: Sadly a missed opportunity f...</td>\n",
              "    </tr>\n",
              "    <tr>\n",
              "      <th>9</th>\n",
              "      <td>RT @believer_dhawal: I swear, I will promote A...</td>\n",
              "    </tr>\n",
              "  </tbody>\n",
              "</table>\n",
              "</div>"
            ],
            "text/plain": [
              "                                              Tweets\n",
              "0  RT @arunrajpaul: Elephant issue was an intelle...\n",
              "1  RT @TheWolfpackIN: Frustrated with India becom...\n",
              "2  India demands China to remove its troops, stru...\n",
              "3  RT @Republic_Bharat: भारत-चीन अधिक जांच करें त...\n",
              "4  RT @Saffron_Kashmir: Exit The Dragon!!!!\\nBoyc...\n",
              "5  RT @Saffron_Kashmir: Exit The Dragon!!!!\\nBoyc...\n",
              "6  RT @Saffron_Kashmir: Exit The Dragon!!!!\\nBoyc...\n",
              "7  RT @aajtak: सामाजिक, आर्थिक और राजनीतिक...  हर...\n",
              "8  RT @harsh_thapar: Sadly a missed opportunity f...\n",
              "9  RT @believer_dhawal: I swear, I will promote A..."
            ]
          },
          "metadata": {
            "tags": []
          },
          "execution_count": 7
        }
      ]
    },
    {
      "cell_type": "code",
      "metadata": {
        "id": "oMdBknLknTJq",
        "colab_type": "code",
        "colab": {
          "base_uri": "https://localhost:8080/",
          "height": 363
        },
        "outputId": "bbb8268d-6a91-4ffe-90f0-53c09e9554fd"
      },
      "source": [
        "df2 = pd.DataFrame([tweets.text for tweets in search2], columns=['Tweets'])\n",
        "df2.head(10)"
      ],
      "execution_count": 8,
      "outputs": [
        {
          "output_type": "execute_result",
          "data": {
            "text/html": [
              "<div>\n",
              "<style scoped>\n",
              "    .dataframe tbody tr th:only-of-type {\n",
              "        vertical-align: middle;\n",
              "    }\n",
              "\n",
              "    .dataframe tbody tr th {\n",
              "        vertical-align: top;\n",
              "    }\n",
              "\n",
              "    .dataframe thead th {\n",
              "        text-align: right;\n",
              "    }\n",
              "</style>\n",
              "<table border=\"1\" class=\"dataframe\">\n",
              "  <thead>\n",
              "    <tr style=\"text-align: right;\">\n",
              "      <th></th>\n",
              "      <th>Tweets</th>\n",
              "    </tr>\n",
              "  </thead>\n",
              "  <tbody>\n",
              "    <tr>\n",
              "      <th>0</th>\n",
              "      <td>India will have more COVID-19 cases if it cond...</td>\n",
              "    </tr>\n",
              "    <tr>\n",
              "      <th>1</th>\n",
              "      <td>RT @DeadlyGomeroi: If people where as concerne...</td>\n",
              "    </tr>\n",
              "    <tr>\n",
              "      <th>2</th>\n",
              "      <td>RT @wellcometrust: More than 20,000 visitors a...</td>\n",
              "    </tr>\n",
              "    <tr>\n",
              "      <th>3</th>\n",
              "      <td>RT @yourrightscamp: As COVID-19 still kills pp...</td>\n",
              "    </tr>\n",
              "    <tr>\n",
              "      <th>4</th>\n",
              "      <td>RT @Ch_AnilKumarINC: 75-year-old moves Delhi H...</td>\n",
              "    </tr>\n",
              "    <tr>\n",
              "      <th>5</th>\n",
              "      <td>RT @AskAnshul: There are many pregnant prisone...</td>\n",
              "    </tr>\n",
              "    <tr>\n",
              "      <th>6</th>\n",
              "      <td>RT @pstamase: We took COVID seriously because ...</td>\n",
              "    </tr>\n",
              "    <tr>\n",
              "      <th>7</th>\n",
              "      <td>RT @jacquisneal: Pass it on. CVS is doing free...</td>\n",
              "    </tr>\n",
              "    <tr>\n",
              "      <th>8</th>\n",
              "      <td>RT @LambaAlka: Turned away from hospitals, my ...</td>\n",
              "    </tr>\n",
              "    <tr>\n",
              "      <th>9</th>\n",
              "      <td>RT @moandtaff: #borisvoteofnoconfidence\\nThe Q...</td>\n",
              "    </tr>\n",
              "  </tbody>\n",
              "</table>\n",
              "</div>"
            ],
            "text/plain": [
              "                                              Tweets\n",
              "0  India will have more COVID-19 cases if it cond...\n",
              "1  RT @DeadlyGomeroi: If people where as concerne...\n",
              "2  RT @wellcometrust: More than 20,000 visitors a...\n",
              "3  RT @yourrightscamp: As COVID-19 still kills pp...\n",
              "4  RT @Ch_AnilKumarINC: 75-year-old moves Delhi H...\n",
              "5  RT @AskAnshul: There are many pregnant prisone...\n",
              "6  RT @pstamase: We took COVID seriously because ...\n",
              "7  RT @jacquisneal: Pass it on. CVS is doing free...\n",
              "8  RT @LambaAlka: Turned away from hospitals, my ...\n",
              "9  RT @moandtaff: #borisvoteofnoconfidence\\nThe Q..."
            ]
          },
          "metadata": {
            "tags": []
          },
          "execution_count": 8
        }
      ]
    },
    {
      "cell_type": "code",
      "metadata": {
        "id": "O6JXajGemhEa",
        "colab_type": "code",
        "colab": {}
      },
      "source": [
        "def clean(x):\n",
        "    return ' '.join(re.sub(\"(@[A-Za-z0-9]+)|([^0-9A-Za-z \\t])|(\\w+:\\/\\/\\S+)\", \" \", x).split()) "
      ],
      "execution_count": 0,
      "outputs": []
    },
    {
      "cell_type": "code",
      "metadata": {
        "id": "ubXtIs_Em7jH",
        "colab_type": "code",
        "colab": {}
      },
      "source": [
        "df1['Tweets'] = df1['Tweets'].apply(clean)\n",
        "df2['Tweets'] = df2['Tweets'].apply(clean)"
      ],
      "execution_count": 0,
      "outputs": []
    },
    {
      "cell_type": "code",
      "metadata": {
        "id": "tuNWRD7VnY-z",
        "colab_type": "code",
        "colab": {
          "base_uri": "https://localhost:8080/",
          "height": 206
        },
        "outputId": "f88169e5-bf31-4b21-b182-34ebfef1ea07"
      },
      "source": [
        "df1.head()"
      ],
      "execution_count": 11,
      "outputs": [
        {
          "output_type": "execute_result",
          "data": {
            "text/html": [
              "<div>\n",
              "<style scoped>\n",
              "    .dataframe tbody tr th:only-of-type {\n",
              "        vertical-align: middle;\n",
              "    }\n",
              "\n",
              "    .dataframe tbody tr th {\n",
              "        vertical-align: top;\n",
              "    }\n",
              "\n",
              "    .dataframe thead th {\n",
              "        text-align: right;\n",
              "    }\n",
              "</style>\n",
              "<table border=\"1\" class=\"dataframe\">\n",
              "  <thead>\n",
              "    <tr style=\"text-align: right;\">\n",
              "      <th></th>\n",
              "      <th>Tweets</th>\n",
              "    </tr>\n",
              "  </thead>\n",
              "  <tbody>\n",
              "    <tr>\n",
              "      <th>0</th>\n",
              "      <td>RT Elephant issue was an intellegent cover up ...</td>\n",
              "    </tr>\n",
              "    <tr>\n",
              "      <th>1</th>\n",
              "      <td>RT Frustrated with India becoming UNSC member ...</td>\n",
              "    </tr>\n",
              "    <tr>\n",
              "      <th>2</th>\n",
              "      <td>India demands China to remove its troops struc...</td>\n",
              "    </tr>\n",
              "    <tr>\n",
              "      <th>3</th>\n",
              "      <td>RT Bharat 19</td>\n",
              "    </tr>\n",
              "    <tr>\n",
              "      <th>4</th>\n",
              "      <td>RT Kashmir Exit The Dragon Boycott Chinese Pro...</td>\n",
              "    </tr>\n",
              "  </tbody>\n",
              "</table>\n",
              "</div>"
            ],
            "text/plain": [
              "                                              Tweets\n",
              "0  RT Elephant issue was an intellegent cover up ...\n",
              "1  RT Frustrated with India becoming UNSC member ...\n",
              "2  India demands China to remove its troops struc...\n",
              "3                                       RT Bharat 19\n",
              "4  RT Kashmir Exit The Dragon Boycott Chinese Pro..."
            ]
          },
          "metadata": {
            "tags": []
          },
          "execution_count": 11
        }
      ]
    },
    {
      "cell_type": "code",
      "metadata": {
        "id": "M8hnqOgOna9L",
        "colab_type": "code",
        "colab": {
          "base_uri": "https://localhost:8080/",
          "height": 206
        },
        "outputId": "12100af5-527b-45bc-94fc-07e369dbfb3b"
      },
      "source": [
        "df2.head()"
      ],
      "execution_count": 12,
      "outputs": [
        {
          "output_type": "execute_result",
          "data": {
            "text/html": [
              "<div>\n",
              "<style scoped>\n",
              "    .dataframe tbody tr th:only-of-type {\n",
              "        vertical-align: middle;\n",
              "    }\n",
              "\n",
              "    .dataframe tbody tr th {\n",
              "        vertical-align: top;\n",
              "    }\n",
              "\n",
              "    .dataframe thead th {\n",
              "        text-align: right;\n",
              "    }\n",
              "</style>\n",
              "<table border=\"1\" class=\"dataframe\">\n",
              "  <thead>\n",
              "    <tr style=\"text-align: right;\">\n",
              "      <th></th>\n",
              "      <th>Tweets</th>\n",
              "    </tr>\n",
              "  </thead>\n",
              "  <tbody>\n",
              "    <tr>\n",
              "      <th>0</th>\n",
              "      <td>India will have more COVID 19 cases if it cond...</td>\n",
              "    </tr>\n",
              "    <tr>\n",
              "      <th>1</th>\n",
              "      <td>RT If people where as concerned about racism a...</td>\n",
              "    </tr>\n",
              "    <tr>\n",
              "      <th>2</th>\n",
              "      <td>RT More than 20 000 visitors and 15 000 meals ...</td>\n",
              "    </tr>\n",
              "    <tr>\n",
              "      <th>3</th>\n",
              "      <td>RT As COVID 19 still kills ppl cops seized mas...</td>\n",
              "    </tr>\n",
              "    <tr>\n",
              "      <th>4</th>\n",
              "      <td>RT AnilKumarINC 75 year old moves Delhi HC for...</td>\n",
              "    </tr>\n",
              "  </tbody>\n",
              "</table>\n",
              "</div>"
            ],
            "text/plain": [
              "                                              Tweets\n",
              "0  India will have more COVID 19 cases if it cond...\n",
              "1  RT If people where as concerned about racism a...\n",
              "2  RT More than 20 000 visitors and 15 000 meals ...\n",
              "3  RT As COVID 19 still kills ppl cops seized mas...\n",
              "4  RT AnilKumarINC 75 year old moves Delhi HC for..."
            ]
          },
          "metadata": {
            "tags": []
          },
          "execution_count": 12
        }
      ]
    },
    {
      "cell_type": "code",
      "metadata": {
        "id": "fVP8C-ddtJta",
        "colab_type": "code",
        "colab": {
          "base_uri": "https://localhost:8080/",
          "height": 156
        },
        "outputId": "58a8ca1d-857c-4733-e2ad-2badd0dc432f"
      },
      "source": [
        "df1.info()"
      ],
      "execution_count": 13,
      "outputs": [
        {
          "output_type": "stream",
          "text": [
            "<class 'pandas.core.frame.DataFrame'>\n",
            "RangeIndex: 100 entries, 0 to 99\n",
            "Data columns (total 1 columns):\n",
            " #   Column  Non-Null Count  Dtype \n",
            "---  ------  --------------  ----- \n",
            " 0   Tweets  100 non-null    object\n",
            "dtypes: object(1)\n",
            "memory usage: 928.0+ bytes\n"
          ],
          "name": "stdout"
        }
      ]
    },
    {
      "cell_type": "code",
      "metadata": {
        "id": "RgRDOpVSthFG",
        "colab_type": "code",
        "colab": {}
      },
      "source": [
        "def polarity_calc(tweet):\n",
        "    return TextBlob(tweet).sentiment.polarity\n",
        "\n",
        "def subjectivity_calc(tweet):\n",
        "    return TextBlob(tweet).sentiment.subjectivity"
      ],
      "execution_count": 0,
      "outputs": []
    },
    {
      "cell_type": "code",
      "metadata": {
        "id": "_G4MLrvMnCNn",
        "colab_type": "code",
        "colab": {}
      },
      "source": [
        "df1['polarity'] = df1['Tweets'].apply(polarity_calc)\n",
        "df1['subjectivity'] = df1['Tweets'].apply(subjectivity_calc)\n",
        "df2['polarity'] = df2['Tweets'].apply(polarity_calc)\n",
        "df2['subjectivity'] = df1['Tweets'].apply(subjectivity_calc)"
      ],
      "execution_count": 0,
      "outputs": []
    },
    {
      "cell_type": "code",
      "metadata": {
        "id": "o4BCNc0jneDl",
        "colab_type": "code",
        "colab": {
          "base_uri": "https://localhost:8080/",
          "height": 206
        },
        "outputId": "45180cd4-fe70-40a7-f68a-1c78ffbdae68"
      },
      "source": [
        "df1.head()"
      ],
      "execution_count": 16,
      "outputs": [
        {
          "output_type": "execute_result",
          "data": {
            "text/html": [
              "<div>\n",
              "<style scoped>\n",
              "    .dataframe tbody tr th:only-of-type {\n",
              "        vertical-align: middle;\n",
              "    }\n",
              "\n",
              "    .dataframe tbody tr th {\n",
              "        vertical-align: top;\n",
              "    }\n",
              "\n",
              "    .dataframe thead th {\n",
              "        text-align: right;\n",
              "    }\n",
              "</style>\n",
              "<table border=\"1\" class=\"dataframe\">\n",
              "  <thead>\n",
              "    <tr style=\"text-align: right;\">\n",
              "      <th></th>\n",
              "      <th>Tweets</th>\n",
              "      <th>polarity</th>\n",
              "      <th>subjectivity</th>\n",
              "    </tr>\n",
              "  </thead>\n",
              "  <tbody>\n",
              "    <tr>\n",
              "      <th>0</th>\n",
              "      <td>RT Elephant issue was an intellegent cover up ...</td>\n",
              "      <td>0.000</td>\n",
              "      <td>0.000</td>\n",
              "    </tr>\n",
              "    <tr>\n",
              "      <th>1</th>\n",
              "      <td>RT Frustrated with India becoming UNSC member ...</td>\n",
              "      <td>-0.125</td>\n",
              "      <td>0.525</td>\n",
              "    </tr>\n",
              "    <tr>\n",
              "      <th>2</th>\n",
              "      <td>India demands China to remove its troops struc...</td>\n",
              "      <td>0.000</td>\n",
              "      <td>0.000</td>\n",
              "    </tr>\n",
              "    <tr>\n",
              "      <th>3</th>\n",
              "      <td>RT Bharat 19</td>\n",
              "      <td>0.000</td>\n",
              "      <td>0.000</td>\n",
              "    </tr>\n",
              "    <tr>\n",
              "      <th>4</th>\n",
              "      <td>RT Kashmir Exit The Dragon Boycott Chinese Pro...</td>\n",
              "      <td>0.000</td>\n",
              "      <td>0.000</td>\n",
              "    </tr>\n",
              "  </tbody>\n",
              "</table>\n",
              "</div>"
            ],
            "text/plain": [
              "                                              Tweets  polarity  subjectivity\n",
              "0  RT Elephant issue was an intellegent cover up ...     0.000         0.000\n",
              "1  RT Frustrated with India becoming UNSC member ...    -0.125         0.525\n",
              "2  India demands China to remove its troops struc...     0.000         0.000\n",
              "3                                       RT Bharat 19     0.000         0.000\n",
              "4  RT Kashmir Exit The Dragon Boycott Chinese Pro...     0.000         0.000"
            ]
          },
          "metadata": {
            "tags": []
          },
          "execution_count": 16
        }
      ]
    },
    {
      "cell_type": "code",
      "metadata": {
        "id": "I9EWkeXynfiU",
        "colab_type": "code",
        "colab": {
          "base_uri": "https://localhost:8080/",
          "height": 206
        },
        "outputId": "1fd1b80c-2906-45ca-e3e7-9e44334f339d"
      },
      "source": [
        "df2.head()"
      ],
      "execution_count": 17,
      "outputs": [
        {
          "output_type": "execute_result",
          "data": {
            "text/html": [
              "<div>\n",
              "<style scoped>\n",
              "    .dataframe tbody tr th:only-of-type {\n",
              "        vertical-align: middle;\n",
              "    }\n",
              "\n",
              "    .dataframe tbody tr th {\n",
              "        vertical-align: top;\n",
              "    }\n",
              "\n",
              "    .dataframe thead th {\n",
              "        text-align: right;\n",
              "    }\n",
              "</style>\n",
              "<table border=\"1\" class=\"dataframe\">\n",
              "  <thead>\n",
              "    <tr style=\"text-align: right;\">\n",
              "      <th></th>\n",
              "      <th>Tweets</th>\n",
              "      <th>polarity</th>\n",
              "      <th>subjectivity</th>\n",
              "    </tr>\n",
              "  </thead>\n",
              "  <tbody>\n",
              "    <tr>\n",
              "      <th>0</th>\n",
              "      <td>India will have more COVID 19 cases if it cond...</td>\n",
              "      <td>0.50</td>\n",
              "      <td>0.000</td>\n",
              "    </tr>\n",
              "    <tr>\n",
              "      <th>1</th>\n",
              "      <td>RT If people where as concerned about racism a...</td>\n",
              "      <td>0.55</td>\n",
              "      <td>0.525</td>\n",
              "    </tr>\n",
              "    <tr>\n",
              "      <th>2</th>\n",
              "      <td>RT More than 20 000 visitors and 15 000 meals ...</td>\n",
              "      <td>0.25</td>\n",
              "      <td>0.000</td>\n",
              "    </tr>\n",
              "    <tr>\n",
              "      <th>3</th>\n",
              "      <td>RT As COVID 19 still kills ppl cops seized mas...</td>\n",
              "      <td>0.00</td>\n",
              "      <td>0.000</td>\n",
              "    </tr>\n",
              "    <tr>\n",
              "      <th>4</th>\n",
              "      <td>RT AnilKumarINC 75 year old moves Delhi HC for...</td>\n",
              "      <td>0.10</td>\n",
              "      <td>0.000</td>\n",
              "    </tr>\n",
              "  </tbody>\n",
              "</table>\n",
              "</div>"
            ],
            "text/plain": [
              "                                              Tweets  polarity  subjectivity\n",
              "0  India will have more COVID 19 cases if it cond...      0.50         0.000\n",
              "1  RT If people where as concerned about racism a...      0.55         0.525\n",
              "2  RT More than 20 000 visitors and 15 000 meals ...      0.25         0.000\n",
              "3  RT As COVID 19 still kills ppl cops seized mas...      0.00         0.000\n",
              "4  RT AnilKumarINC 75 year old moves Delhi HC for...      0.10         0.000"
            ]
          },
          "metadata": {
            "tags": []
          },
          "execution_count": 17
        }
      ]
    }
  ]
}