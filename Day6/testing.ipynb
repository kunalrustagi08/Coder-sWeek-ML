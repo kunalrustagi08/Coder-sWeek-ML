{
  "nbformat": 4,
  "nbformat_minor": 0,
  "metadata": {
    "colab": {
      "name": "scratchpad",
      "provenance": []
    },
    "kernelspec": {
      "display_name": "Python 3",
      "name": "python3"
    }
  },
  "cells": [
    {
      "cell_type": "code",
      "metadata": {
        "colab_type": "code",
        "id": "lIYdn1woOS1n",
        "colab": {
          "base_uri": "https://localhost:8080/",
          "height": 52
        },
        "outputId": "34217c68-2311-4e9b-9de6-4355dd179212"
      },
      "source": [
        "import requests\n",
        "\n",
        "url = 'http://568010cd14f0.ngrok.io'\n",
        "req = requests.get(url)\n",
        "print(req.status_code)\n",
        "print(req.text)"
      ],
      "execution_count": 1,
      "outputs": [
        {
          "output_type": "stream",
          "text": [
            "200\n",
            "Status: Running and Active...\n"
          ],
          "name": "stdout"
        }
      ]
    },
    {
      "cell_type": "code",
      "metadata": {
        "id": "BmEySYoTAvIL",
        "colab_type": "code",
        "colab": {
          "base_uri": "https://localhost:8080/",
          "height": 52
        },
        "outputId": "c7f8f04e-c35b-47c9-cfc6-3ecc206f9038"
      },
      "source": [
        "import requests, json\n",
        "\n",
        "url = 'http://568010cd14f0.ngrok.io/predict'\n",
        "req = requests.post(url, json={'UserID':15624510, 'Gender': 'Male', \n",
        "                               'Age':24,'Estimated Salary':30000})\n",
        "\n",
        "print(req.status_code)\n",
        "print(req.text)"
      ],
      "execution_count": 3,
      "outputs": [
        {
          "output_type": "stream",
          "text": [
            "200\n",
            "Purchase not made\n"
          ],
          "name": "stdout"
        }
      ]
    }
  ]
}