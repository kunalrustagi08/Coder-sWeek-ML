{
  "nbformat": 4,
  "nbformat_minor": 0,
  "metadata": {
    "colab": {
      "name": "day4_unsupervised.ipynb",
      "provenance": [],
      "collapsed_sections": []
    },
    "kernelspec": {
      "name": "python3",
      "display_name": "Python 3"
    }
  },
  "cells": [
    {
      "cell_type": "code",
      "metadata": {
        "id": "2AC9_zy2MQ1P",
        "colab_type": "code",
        "colab": {
          "base_uri": "https://localhost:8080/",
          "height": 72
        },
        "outputId": "3d5b3896-ed50-4c0c-a0d9-9ce725d77c9c"
      },
      "source": [
        "import numpy as np\n",
        "import pandas as pd\n",
        "import matplotlib.pyplot as plt\n",
        "import seaborn as sns"
      ],
      "execution_count": 1,
      "outputs": [
        {
          "output_type": "stream",
          "text": [
            "/usr/local/lib/python3.6/dist-packages/statsmodels/tools/_testing.py:19: FutureWarning: pandas.util.testing is deprecated. Use the functions in the public API at pandas.testing instead.\n",
            "  import pandas.util.testing as tm\n"
          ],
          "name": "stderr"
        }
      ]
    },
    {
      "cell_type": "code",
      "metadata": {
        "id": "bHT-u1WLMj8s",
        "colab_type": "code",
        "colab": {}
      },
      "source": [
        "data = pd.read_csv('http://iali.in/datasets/IEEEAPSIT/unsupervised-ml/Wholesale%20customers%20data.csv')"
      ],
      "execution_count": 0,
      "outputs": []
    },
    {
      "cell_type": "code",
      "metadata": {
        "id": "1Gpz2tBkNmtD",
        "colab_type": "code",
        "colab": {
          "base_uri": "https://localhost:8080/",
          "height": 278
        },
        "outputId": "bf2c9697-ea0c-4285-a73d-8f0a779abf0e"
      },
      "source": [
        "data.info()"
      ],
      "execution_count": 3,
      "outputs": [
        {
          "output_type": "stream",
          "text": [
            "<class 'pandas.core.frame.DataFrame'>\n",
            "RangeIndex: 440 entries, 0 to 439\n",
            "Data columns (total 8 columns):\n",
            " #   Column            Non-Null Count  Dtype\n",
            "---  ------            --------------  -----\n",
            " 0   Channel           440 non-null    int64\n",
            " 1   Region            440 non-null    int64\n",
            " 2   Fresh             440 non-null    int64\n",
            " 3   Milk              440 non-null    int64\n",
            " 4   Grocery           440 non-null    int64\n",
            " 5   Frozen            440 non-null    int64\n",
            " 6   Detergents_Paper  440 non-null    int64\n",
            " 7   Delicassen        440 non-null    int64\n",
            "dtypes: int64(8)\n",
            "memory usage: 27.6 KB\n"
          ],
          "name": "stdout"
        }
      ]
    },
    {
      "cell_type": "code",
      "metadata": {
        "id": "EGifa0bCNoFI",
        "colab_type": "code",
        "colab": {
          "base_uri": "https://localhost:8080/",
          "height": 363
        },
        "outputId": "bd0380d8-24cc-4c88-ea72-5dfe26ccca50"
      },
      "source": [
        "data.head(10)"
      ],
      "execution_count": 4,
      "outputs": [
        {
          "output_type": "execute_result",
          "data": {
            "text/html": [
              "<div>\n",
              "<style scoped>\n",
              "    .dataframe tbody tr th:only-of-type {\n",
              "        vertical-align: middle;\n",
              "    }\n",
              "\n",
              "    .dataframe tbody tr th {\n",
              "        vertical-align: top;\n",
              "    }\n",
              "\n",
              "    .dataframe thead th {\n",
              "        text-align: right;\n",
              "    }\n",
              "</style>\n",
              "<table border=\"1\" class=\"dataframe\">\n",
              "  <thead>\n",
              "    <tr style=\"text-align: right;\">\n",
              "      <th></th>\n",
              "      <th>Channel</th>\n",
              "      <th>Region</th>\n",
              "      <th>Fresh</th>\n",
              "      <th>Milk</th>\n",
              "      <th>Grocery</th>\n",
              "      <th>Frozen</th>\n",
              "      <th>Detergents_Paper</th>\n",
              "      <th>Delicassen</th>\n",
              "    </tr>\n",
              "  </thead>\n",
              "  <tbody>\n",
              "    <tr>\n",
              "      <th>0</th>\n",
              "      <td>2</td>\n",
              "      <td>3</td>\n",
              "      <td>12669</td>\n",
              "      <td>9656</td>\n",
              "      <td>7561</td>\n",
              "      <td>214</td>\n",
              "      <td>2674</td>\n",
              "      <td>1338</td>\n",
              "    </tr>\n",
              "    <tr>\n",
              "      <th>1</th>\n",
              "      <td>2</td>\n",
              "      <td>3</td>\n",
              "      <td>7057</td>\n",
              "      <td>9810</td>\n",
              "      <td>9568</td>\n",
              "      <td>1762</td>\n",
              "      <td>3293</td>\n",
              "      <td>1776</td>\n",
              "    </tr>\n",
              "    <tr>\n",
              "      <th>2</th>\n",
              "      <td>2</td>\n",
              "      <td>3</td>\n",
              "      <td>6353</td>\n",
              "      <td>8808</td>\n",
              "      <td>7684</td>\n",
              "      <td>2405</td>\n",
              "      <td>3516</td>\n",
              "      <td>7844</td>\n",
              "    </tr>\n",
              "    <tr>\n",
              "      <th>3</th>\n",
              "      <td>1</td>\n",
              "      <td>3</td>\n",
              "      <td>13265</td>\n",
              "      <td>1196</td>\n",
              "      <td>4221</td>\n",
              "      <td>6404</td>\n",
              "      <td>507</td>\n",
              "      <td>1788</td>\n",
              "    </tr>\n",
              "    <tr>\n",
              "      <th>4</th>\n",
              "      <td>2</td>\n",
              "      <td>3</td>\n",
              "      <td>22615</td>\n",
              "      <td>5410</td>\n",
              "      <td>7198</td>\n",
              "      <td>3915</td>\n",
              "      <td>1777</td>\n",
              "      <td>5185</td>\n",
              "    </tr>\n",
              "    <tr>\n",
              "      <th>5</th>\n",
              "      <td>2</td>\n",
              "      <td>3</td>\n",
              "      <td>9413</td>\n",
              "      <td>8259</td>\n",
              "      <td>5126</td>\n",
              "      <td>666</td>\n",
              "      <td>1795</td>\n",
              "      <td>1451</td>\n",
              "    </tr>\n",
              "    <tr>\n",
              "      <th>6</th>\n",
              "      <td>2</td>\n",
              "      <td>3</td>\n",
              "      <td>12126</td>\n",
              "      <td>3199</td>\n",
              "      <td>6975</td>\n",
              "      <td>480</td>\n",
              "      <td>3140</td>\n",
              "      <td>545</td>\n",
              "    </tr>\n",
              "    <tr>\n",
              "      <th>7</th>\n",
              "      <td>2</td>\n",
              "      <td>3</td>\n",
              "      <td>7579</td>\n",
              "      <td>4956</td>\n",
              "      <td>9426</td>\n",
              "      <td>1669</td>\n",
              "      <td>3321</td>\n",
              "      <td>2566</td>\n",
              "    </tr>\n",
              "    <tr>\n",
              "      <th>8</th>\n",
              "      <td>1</td>\n",
              "      <td>3</td>\n",
              "      <td>5963</td>\n",
              "      <td>3648</td>\n",
              "      <td>6192</td>\n",
              "      <td>425</td>\n",
              "      <td>1716</td>\n",
              "      <td>750</td>\n",
              "    </tr>\n",
              "    <tr>\n",
              "      <th>9</th>\n",
              "      <td>2</td>\n",
              "      <td>3</td>\n",
              "      <td>6006</td>\n",
              "      <td>11093</td>\n",
              "      <td>18881</td>\n",
              "      <td>1159</td>\n",
              "      <td>7425</td>\n",
              "      <td>2098</td>\n",
              "    </tr>\n",
              "  </tbody>\n",
              "</table>\n",
              "</div>"
            ],
            "text/plain": [
              "   Channel  Region  Fresh   Milk  Grocery  Frozen  Detergents_Paper  Delicassen\n",
              "0        2       3  12669   9656     7561     214              2674        1338\n",
              "1        2       3   7057   9810     9568    1762              3293        1776\n",
              "2        2       3   6353   8808     7684    2405              3516        7844\n",
              "3        1       3  13265   1196     4221    6404               507        1788\n",
              "4        2       3  22615   5410     7198    3915              1777        5185\n",
              "5        2       3   9413   8259     5126     666              1795        1451\n",
              "6        2       3  12126   3199     6975     480              3140         545\n",
              "7        2       3   7579   4956     9426    1669              3321        2566\n",
              "8        1       3   5963   3648     6192     425              1716         750\n",
              "9        2       3   6006  11093    18881    1159              7425        2098"
            ]
          },
          "metadata": {
            "tags": []
          },
          "execution_count": 4
        }
      ]
    },
    {
      "cell_type": "code",
      "metadata": {
        "id": "qnfzoSoyNrY-",
        "colab_type": "code",
        "colab": {
          "base_uri": "https://localhost:8080/",
          "height": 363
        },
        "outputId": "d94f64b8-c84a-4369-dfaf-75d5f5aa54fd"
      },
      "source": [
        "data.tail(10)"
      ],
      "execution_count": 5,
      "outputs": [
        {
          "output_type": "execute_result",
          "data": {
            "text/html": [
              "<div>\n",
              "<style scoped>\n",
              "    .dataframe tbody tr th:only-of-type {\n",
              "        vertical-align: middle;\n",
              "    }\n",
              "\n",
              "    .dataframe tbody tr th {\n",
              "        vertical-align: top;\n",
              "    }\n",
              "\n",
              "    .dataframe thead th {\n",
              "        text-align: right;\n",
              "    }\n",
              "</style>\n",
              "<table border=\"1\" class=\"dataframe\">\n",
              "  <thead>\n",
              "    <tr style=\"text-align: right;\">\n",
              "      <th></th>\n",
              "      <th>Channel</th>\n",
              "      <th>Region</th>\n",
              "      <th>Fresh</th>\n",
              "      <th>Milk</th>\n",
              "      <th>Grocery</th>\n",
              "      <th>Frozen</th>\n",
              "      <th>Detergents_Paper</th>\n",
              "      <th>Delicassen</th>\n",
              "    </tr>\n",
              "  </thead>\n",
              "  <tbody>\n",
              "    <tr>\n",
              "      <th>430</th>\n",
              "      <td>1</td>\n",
              "      <td>3</td>\n",
              "      <td>3097</td>\n",
              "      <td>4230</td>\n",
              "      <td>16483</td>\n",
              "      <td>575</td>\n",
              "      <td>241</td>\n",
              "      <td>2080</td>\n",
              "    </tr>\n",
              "    <tr>\n",
              "      <th>431</th>\n",
              "      <td>1</td>\n",
              "      <td>3</td>\n",
              "      <td>8533</td>\n",
              "      <td>5506</td>\n",
              "      <td>5160</td>\n",
              "      <td>13486</td>\n",
              "      <td>1377</td>\n",
              "      <td>1498</td>\n",
              "    </tr>\n",
              "    <tr>\n",
              "      <th>432</th>\n",
              "      <td>1</td>\n",
              "      <td>3</td>\n",
              "      <td>21117</td>\n",
              "      <td>1162</td>\n",
              "      <td>4754</td>\n",
              "      <td>269</td>\n",
              "      <td>1328</td>\n",
              "      <td>395</td>\n",
              "    </tr>\n",
              "    <tr>\n",
              "      <th>433</th>\n",
              "      <td>1</td>\n",
              "      <td>3</td>\n",
              "      <td>1982</td>\n",
              "      <td>3218</td>\n",
              "      <td>1493</td>\n",
              "      <td>1541</td>\n",
              "      <td>356</td>\n",
              "      <td>1449</td>\n",
              "    </tr>\n",
              "    <tr>\n",
              "      <th>434</th>\n",
              "      <td>1</td>\n",
              "      <td>3</td>\n",
              "      <td>16731</td>\n",
              "      <td>3922</td>\n",
              "      <td>7994</td>\n",
              "      <td>688</td>\n",
              "      <td>2371</td>\n",
              "      <td>838</td>\n",
              "    </tr>\n",
              "    <tr>\n",
              "      <th>435</th>\n",
              "      <td>1</td>\n",
              "      <td>3</td>\n",
              "      <td>29703</td>\n",
              "      <td>12051</td>\n",
              "      <td>16027</td>\n",
              "      <td>13135</td>\n",
              "      <td>182</td>\n",
              "      <td>2204</td>\n",
              "    </tr>\n",
              "    <tr>\n",
              "      <th>436</th>\n",
              "      <td>1</td>\n",
              "      <td>3</td>\n",
              "      <td>39228</td>\n",
              "      <td>1431</td>\n",
              "      <td>764</td>\n",
              "      <td>4510</td>\n",
              "      <td>93</td>\n",
              "      <td>2346</td>\n",
              "    </tr>\n",
              "    <tr>\n",
              "      <th>437</th>\n",
              "      <td>2</td>\n",
              "      <td>3</td>\n",
              "      <td>14531</td>\n",
              "      <td>15488</td>\n",
              "      <td>30243</td>\n",
              "      <td>437</td>\n",
              "      <td>14841</td>\n",
              "      <td>1867</td>\n",
              "    </tr>\n",
              "    <tr>\n",
              "      <th>438</th>\n",
              "      <td>1</td>\n",
              "      <td>3</td>\n",
              "      <td>10290</td>\n",
              "      <td>1981</td>\n",
              "      <td>2232</td>\n",
              "      <td>1038</td>\n",
              "      <td>168</td>\n",
              "      <td>2125</td>\n",
              "    </tr>\n",
              "    <tr>\n",
              "      <th>439</th>\n",
              "      <td>1</td>\n",
              "      <td>3</td>\n",
              "      <td>2787</td>\n",
              "      <td>1698</td>\n",
              "      <td>2510</td>\n",
              "      <td>65</td>\n",
              "      <td>477</td>\n",
              "      <td>52</td>\n",
              "    </tr>\n",
              "  </tbody>\n",
              "</table>\n",
              "</div>"
            ],
            "text/plain": [
              "     Channel  Region  Fresh  ...  Frozen  Detergents_Paper  Delicassen\n",
              "430        1       3   3097  ...     575               241        2080\n",
              "431        1       3   8533  ...   13486              1377        1498\n",
              "432        1       3  21117  ...     269              1328         395\n",
              "433        1       3   1982  ...    1541               356        1449\n",
              "434        1       3  16731  ...     688              2371         838\n",
              "435        1       3  29703  ...   13135               182        2204\n",
              "436        1       3  39228  ...    4510                93        2346\n",
              "437        2       3  14531  ...     437             14841        1867\n",
              "438        1       3  10290  ...    1038               168        2125\n",
              "439        1       3   2787  ...      65               477          52\n",
              "\n",
              "[10 rows x 8 columns]"
            ]
          },
          "metadata": {
            "tags": []
          },
          "execution_count": 5
        }
      ]
    },
    {
      "cell_type": "code",
      "metadata": {
        "id": "Z0-VowxaNsrL",
        "colab_type": "code",
        "colab": {
          "base_uri": "https://localhost:8080/",
          "height": 300
        },
        "outputId": "ea72f506-85a0-4d19-e304-850f81bf1e03"
      },
      "source": [
        "data.describe()"
      ],
      "execution_count": 6,
      "outputs": [
        {
          "output_type": "execute_result",
          "data": {
            "text/html": [
              "<div>\n",
              "<style scoped>\n",
              "    .dataframe tbody tr th:only-of-type {\n",
              "        vertical-align: middle;\n",
              "    }\n",
              "\n",
              "    .dataframe tbody tr th {\n",
              "        vertical-align: top;\n",
              "    }\n",
              "\n",
              "    .dataframe thead th {\n",
              "        text-align: right;\n",
              "    }\n",
              "</style>\n",
              "<table border=\"1\" class=\"dataframe\">\n",
              "  <thead>\n",
              "    <tr style=\"text-align: right;\">\n",
              "      <th></th>\n",
              "      <th>Channel</th>\n",
              "      <th>Region</th>\n",
              "      <th>Fresh</th>\n",
              "      <th>Milk</th>\n",
              "      <th>Grocery</th>\n",
              "      <th>Frozen</th>\n",
              "      <th>Detergents_Paper</th>\n",
              "      <th>Delicassen</th>\n",
              "    </tr>\n",
              "  </thead>\n",
              "  <tbody>\n",
              "    <tr>\n",
              "      <th>count</th>\n",
              "      <td>440.000000</td>\n",
              "      <td>440.000000</td>\n",
              "      <td>440.000000</td>\n",
              "      <td>440.000000</td>\n",
              "      <td>440.000000</td>\n",
              "      <td>440.000000</td>\n",
              "      <td>440.000000</td>\n",
              "      <td>440.000000</td>\n",
              "    </tr>\n",
              "    <tr>\n",
              "      <th>mean</th>\n",
              "      <td>1.322727</td>\n",
              "      <td>2.543182</td>\n",
              "      <td>12000.297727</td>\n",
              "      <td>5796.265909</td>\n",
              "      <td>7951.277273</td>\n",
              "      <td>3071.931818</td>\n",
              "      <td>2881.493182</td>\n",
              "      <td>1524.870455</td>\n",
              "    </tr>\n",
              "    <tr>\n",
              "      <th>std</th>\n",
              "      <td>0.468052</td>\n",
              "      <td>0.774272</td>\n",
              "      <td>12647.328865</td>\n",
              "      <td>7380.377175</td>\n",
              "      <td>9503.162829</td>\n",
              "      <td>4854.673333</td>\n",
              "      <td>4767.854448</td>\n",
              "      <td>2820.105937</td>\n",
              "    </tr>\n",
              "    <tr>\n",
              "      <th>min</th>\n",
              "      <td>1.000000</td>\n",
              "      <td>1.000000</td>\n",
              "      <td>3.000000</td>\n",
              "      <td>55.000000</td>\n",
              "      <td>3.000000</td>\n",
              "      <td>25.000000</td>\n",
              "      <td>3.000000</td>\n",
              "      <td>3.000000</td>\n",
              "    </tr>\n",
              "    <tr>\n",
              "      <th>25%</th>\n",
              "      <td>1.000000</td>\n",
              "      <td>2.000000</td>\n",
              "      <td>3127.750000</td>\n",
              "      <td>1533.000000</td>\n",
              "      <td>2153.000000</td>\n",
              "      <td>742.250000</td>\n",
              "      <td>256.750000</td>\n",
              "      <td>408.250000</td>\n",
              "    </tr>\n",
              "    <tr>\n",
              "      <th>50%</th>\n",
              "      <td>1.000000</td>\n",
              "      <td>3.000000</td>\n",
              "      <td>8504.000000</td>\n",
              "      <td>3627.000000</td>\n",
              "      <td>4755.500000</td>\n",
              "      <td>1526.000000</td>\n",
              "      <td>816.500000</td>\n",
              "      <td>965.500000</td>\n",
              "    </tr>\n",
              "    <tr>\n",
              "      <th>75%</th>\n",
              "      <td>2.000000</td>\n",
              "      <td>3.000000</td>\n",
              "      <td>16933.750000</td>\n",
              "      <td>7190.250000</td>\n",
              "      <td>10655.750000</td>\n",
              "      <td>3554.250000</td>\n",
              "      <td>3922.000000</td>\n",
              "      <td>1820.250000</td>\n",
              "    </tr>\n",
              "    <tr>\n",
              "      <th>max</th>\n",
              "      <td>2.000000</td>\n",
              "      <td>3.000000</td>\n",
              "      <td>112151.000000</td>\n",
              "      <td>73498.000000</td>\n",
              "      <td>92780.000000</td>\n",
              "      <td>60869.000000</td>\n",
              "      <td>40827.000000</td>\n",
              "      <td>47943.000000</td>\n",
              "    </tr>\n",
              "  </tbody>\n",
              "</table>\n",
              "</div>"
            ],
            "text/plain": [
              "          Channel      Region  ...  Detergents_Paper    Delicassen\n",
              "count  440.000000  440.000000  ...        440.000000    440.000000\n",
              "mean     1.322727    2.543182  ...       2881.493182   1524.870455\n",
              "std      0.468052    0.774272  ...       4767.854448   2820.105937\n",
              "min      1.000000    1.000000  ...          3.000000      3.000000\n",
              "25%      1.000000    2.000000  ...        256.750000    408.250000\n",
              "50%      1.000000    3.000000  ...        816.500000    965.500000\n",
              "75%      2.000000    3.000000  ...       3922.000000   1820.250000\n",
              "max      2.000000    3.000000  ...      40827.000000  47943.000000\n",
              "\n",
              "[8 rows x 8 columns]"
            ]
          },
          "metadata": {
            "tags": []
          },
          "execution_count": 6
        }
      ]
    },
    {
      "cell_type": "code",
      "metadata": {
        "id": "hI9GOPVzON33",
        "colab_type": "code",
        "colab": {
          "base_uri": "https://localhost:8080/",
          "height": 348
        },
        "outputId": "85b31306-6e00-495a-a61a-2a0808d15ed9"
      },
      "source": [
        "corr = data.corr()\n",
        "ax = sns.heatmap(corr, annot=True)"
      ],
      "execution_count": 7,
      "outputs": [
        {
          "output_type": "display_data",
          "data": {
            "image/png": "[encoded data removed]",
            "text/plain": [
              "<Figure size 432x288 with 2 Axes>"
            ]
          },
          "metadata": {
            "tags": [],
            "needs_background": "light"
          }
        }
      ]
    },
    {
      "cell_type": "code",
      "metadata": {
        "id": "De2clB-0gd4_",
        "colab_type": "code",
        "colab": {}
      },
      "source": [
        "from sklearn.preprocessing import StandardScaler\n",
        "scaler = StandardScaler()\n",
        "data_scaled = scaler.fit_transform(data)\n",
        "\n",
        "new_data = pd.DataFrame(data_scaled)"
      ],
      "execution_count": 0,
      "outputs": []
    },
    {
      "cell_type": "code",
      "metadata": {
        "id": "hmS4_aaQg3j_",
        "colab_type": "code",
        "colab": {
          "base_uri": "https://localhost:8080/",
          "height": 300
        },
        "outputId": "ed7360b3-6089-4b1c-f4c8-95bc2e7f3e68"
      },
      "source": [
        "new_data.describe()"
      ],
      "execution_count": 9,
      "outputs": [
        {
          "output_type": "execute_result",
          "data": {
            "text/html": [
              "<div>\n",
              "<style scoped>\n",
              "    .dataframe tbody tr th:only-of-type {\n",
              "        vertical-align: middle;\n",
              "    }\n",
              "\n",
              "    .dataframe tbody tr th {\n",
              "        vertical-align: top;\n",
              "    }\n",
              "\n",
              "    .dataframe thead th {\n",
              "        text-align: right;\n",
              "    }\n",
              "</style>\n",
              "<table border=\"1\" class=\"dataframe\">\n",
              "  <thead>\n",
              "    <tr style=\"text-align: right;\">\n",
              "      <th></th>\n",
              "      <th>0</th>\n",
              "      <th>1</th>\n",
              "      <th>2</th>\n",
              "      <th>3</th>\n",
              "      <th>4</th>\n",
              "      <th>5</th>\n",
              "      <th>6</th>\n",
              "      <th>7</th>\n",
              "    </tr>\n",
              "  </thead>\n",
              "  <tbody>\n",
              "    <tr>\n",
              "      <th>count</th>\n",
              "      <td>4.400000e+02</td>\n",
              "      <td>4.400000e+02</td>\n",
              "      <td>4.400000e+02</td>\n",
              "      <td>4.400000e+02</td>\n",
              "      <td>4.400000e+02</td>\n",
              "      <td>4.400000e+02</td>\n",
              "      <td>4.400000e+02</td>\n",
              "      <td>4.400000e+02</td>\n",
              "    </tr>\n",
              "    <tr>\n",
              "      <th>mean</th>\n",
              "      <td>-2.452584e-16</td>\n",
              "      <td>-5.737834e-16</td>\n",
              "      <td>-2.422305e-17</td>\n",
              "      <td>-1.589638e-17</td>\n",
              "      <td>-6.030530e-17</td>\n",
              "      <td>1.135455e-17</td>\n",
              "      <td>-1.917658e-17</td>\n",
              "      <td>-8.276208e-17</td>\n",
              "    </tr>\n",
              "    <tr>\n",
              "      <th>std</th>\n",
              "      <td>1.001138e+00</td>\n",
              "      <td>1.001138e+00</td>\n",
              "      <td>1.001138e+00</td>\n",
              "      <td>1.001138e+00</td>\n",
              "      <td>1.001138e+00</td>\n",
              "      <td>1.001138e+00</td>\n",
              "      <td>1.001138e+00</td>\n",
              "      <td>1.001138e+00</td>\n",
              "    </tr>\n",
              "    <tr>\n",
              "      <th>min</th>\n",
              "      <td>-6.902971e-01</td>\n",
              "      <td>-1.995342e+00</td>\n",
              "      <td>-9.496831e-01</td>\n",
              "      <td>-7.787951e-01</td>\n",
              "      <td>-8.373344e-01</td>\n",
              "      <td>-6.283430e-01</td>\n",
              "      <td>-6.044165e-01</td>\n",
              "      <td>-5.402644e-01</td>\n",
              "    </tr>\n",
              "    <tr>\n",
              "      <th>25%</th>\n",
              "      <td>-6.902971e-01</td>\n",
              "      <td>-7.023369e-01</td>\n",
              "      <td>-7.023339e-01</td>\n",
              "      <td>-5.783063e-01</td>\n",
              "      <td>-6.108364e-01</td>\n",
              "      <td>-4.804306e-01</td>\n",
              "      <td>-5.511349e-01</td>\n",
              "      <td>-3.964005e-01</td>\n",
              "    </tr>\n",
              "    <tr>\n",
              "      <th>50%</th>\n",
              "      <td>-6.902971e-01</td>\n",
              "      <td>5.906683e-01</td>\n",
              "      <td>-2.767602e-01</td>\n",
              "      <td>-2.942580e-01</td>\n",
              "      <td>-3.366684e-01</td>\n",
              "      <td>-3.188045e-01</td>\n",
              "      <td>-4.336004e-01</td>\n",
              "      <td>-1.985766e-01</td>\n",
              "    </tr>\n",
              "    <tr>\n",
              "      <th>75%</th>\n",
              "      <td>1.448652e+00</td>\n",
              "      <td>5.906683e-01</td>\n",
              "      <td>3.905226e-01</td>\n",
              "      <td>1.890921e-01</td>\n",
              "      <td>2.849105e-01</td>\n",
              "      <td>9.946441e-02</td>\n",
              "      <td>2.184822e-01</td>\n",
              "      <td>1.048598e-01</td>\n",
              "    </tr>\n",
              "    <tr>\n",
              "      <th>max</th>\n",
              "      <td>1.448652e+00</td>\n",
              "      <td>5.906683e-01</td>\n",
              "      <td>7.927738e+00</td>\n",
              "      <td>9.183650e+00</td>\n",
              "      <td>8.936528e+00</td>\n",
              "      <td>1.191900e+01</td>\n",
              "      <td>7.967672e+00</td>\n",
              "      <td>1.647845e+01</td>\n",
              "    </tr>\n",
              "  </tbody>\n",
              "</table>\n",
              "</div>"
            ],
            "text/plain": [
              "                  0             1  ...             6             7\n",
              "count  4.400000e+02  4.400000e+02  ...  4.400000e+02  4.400000e+02\n",
              "mean  -2.452584e-16 -5.737834e-16  ... -1.917658e-17 -8.276208e-17\n",
              "std    1.001138e+00  1.001138e+00  ...  1.001138e+00  1.001138e+00\n",
              "min   -6.902971e-01 -1.995342e+00  ... -6.044165e-01 -5.402644e-01\n",
              "25%   -6.902971e-01 -7.023369e-01  ... -5.511349e-01 -3.964005e-01\n",
              "50%   -6.902971e-01  5.906683e-01  ... -4.336004e-01 -1.985766e-01\n",
              "75%    1.448652e+00  5.906683e-01  ...  2.184822e-01  1.048598e-01\n",
              "max    1.448652e+00  5.906683e-01  ...  7.967672e+00  1.647845e+01\n",
              "\n",
              "[8 rows x 8 columns]"
            ]
          },
          "metadata": {
            "tags": []
          },
          "execution_count": 9
        }
      ]
    },
    {
      "cell_type": "code",
      "metadata": {
        "id": "JyZLOhqgmae1",
        "colab_type": "code",
        "colab": {
          "base_uri": "https://localhost:8080/",
          "height": 34
        },
        "outputId": "aa8e4479-1033-4d15-c9a4-05870d683b2e"
      },
      "source": [
        "print(data_scaled.shape)"
      ],
      "execution_count": 10,
      "outputs": [
        {
          "output_type": "stream",
          "text": [
            "(440, 8)\n"
          ],
          "name": "stdout"
        }
      ]
    },
    {
      "cell_type": "code",
      "metadata": {
        "id": "3e3E8ABQU5lj",
        "colab_type": "code",
        "colab": {
          "base_uri": "https://localhost:8080/",
          "height": 69
        },
        "outputId": "f927036a-08d9-463d-fed7-800439b5c688"
      },
      "source": [
        "from sklearn.cluster import KMeans\n",
        "kmeans = KMeans(n_clusters=2)\n",
        "\n",
        "kmeans.fit(data_scaled)"
      ],
      "execution_count": 11,
      "outputs": [
        {
          "output_type": "execute_result",
          "data": {
            "text/plain": [
              "KMeans(algorithm='auto', copy_x=True, init='k-means++', max_iter=300,\n",
              "       n_clusters=2, n_init=10, n_jobs=None, precompute_distances='auto',\n",
              "       random_state=None, tol=0.0001, verbose=0)"
            ]
          },
          "metadata": {
            "tags": []
          },
          "execution_count": 11
        }
      ]
    },
    {
      "cell_type": "code",
      "metadata": {
        "id": "_JdYxTvQhOTI",
        "colab_type": "code",
        "colab": {
          "base_uri": "https://localhost:8080/",
          "height": 34
        },
        "outputId": "3116645f-0eaf-4c1b-c8eb-509795652277"
      },
      "source": [
        "#Finding inertia\n",
        "kmeans.inertia_"
      ],
      "execution_count": 12,
      "outputs": [
        {
          "output_type": "execute_result",
          "data": {
            "text/plain": [
              "2599.38555935614"
            ]
          },
          "metadata": {
            "tags": []
          },
          "execution_count": 12
        }
      ]
    },
    {
      "cell_type": "markdown",
      "metadata": {
        "id": "jQqmB1hoheZM",
        "colab_type": "text"
      },
      "source": [
        "Plotting elbow curve to get accurate cluster size"
      ]
    },
    {
      "cell_type": "code",
      "metadata": {
        "id": "v985vxtRhd8f",
        "colab_type": "code",
        "colab": {}
      },
      "source": [
        "inertia_list = []\n",
        "for i in range(2,12):\n",
        "    kmeans = KMeans(n_clusters = i)\n",
        "    kmeans.fit(data_scaled)\n",
        "    inertia_list.append(kmeans.inertia_)"
      ],
      "execution_count": 0,
      "outputs": []
    },
    {
      "cell_type": "code",
      "metadata": {
        "id": "0g0Pt95aiqsC",
        "colab_type": "code",
        "colab": {
          "base_uri": "https://localhost:8080/",
          "height": 279
        },
        "outputId": "7e5febe8-aa51-4fc0-cf07-33b2fd536702"
      },
      "source": [
        "my_dict = {'Cluster_Size': range(2,12), 'Inertia': inertia_list}\n",
        "new_df = pd.DataFrame(my_dict)\n",
        "\n",
        "plt.plot(new_df.Cluster_Size, new_df.Inertia, marker='X')\n",
        "plt.xlabel('Cluster numbers')\n",
        "plt.ylabel('Inertia')\n",
        "plt.show()"
      ],
      "execution_count": 14,
      "outputs": [
        {
          "output_type": "display_data",
          "data": {
            "image/png": "[encoded data removed]",
            "text/plain": [
              "<Figure size 432x288 with 1 Axes>"
            ]
          },
          "metadata": {
            "tags": [],
            "needs_background": "light"
          }
        }
      ]
    },
    {
      "cell_type": "markdown",
      "metadata": {
        "id": "culq8qOokCsI",
        "colab_type": "text"
      },
      "source": [
        "The elbow curve becomes constant near 6 to 9, so optimum clusters is between 6 and 9."
      ]
    },
    {
      "cell_type": "code",
      "metadata": {
        "id": "B5GBnAExl4KN",
        "colab_type": "code",
        "colab": {}
      },
      "source": [
        "#Using cluster size 6\n",
        "km = KMeans(n_clusters=6)\n",
        "clusters = km.fit_predict(new_data.iloc[:,2:])\n",
        "data[\"label\"] = clusters"
      ],
      "execution_count": 0,
      "outputs": []
    },
    {
      "cell_type": "code",
      "metadata": {
        "id": "I-D3AD6GnPAd",
        "colab_type": "code",
        "colab": {
          "base_uri": "https://localhost:8080/",
          "height": 279
        },
        "outputId": "0b0f5675-becb-4443-ee9d-f9fa7a131b02"
      },
      "source": [
        "plt.scatter(data.Fresh[data.label == 0], data.Grocery[data.label == 0], c='blue', s=60)\n",
        "plt.scatter(data.Fresh[data.label == 1], data.Grocery[data.label == 1], c='orange', s=60)\n",
        "plt.scatter(data.Fresh[data.label == 2], data.Grocery[data.label == 2], c='yellow', s=60)\n",
        "plt.scatter(data.Fresh[data.label == 3], data.Grocery[data.label == 3], c='grey', s=60)\n",
        "plt.scatter(data.Fresh[data.label == 4], data.Grocery[data.label == 4], c='black', s=60)\n",
        "plt.scatter(data.Fresh[data.label == 5], data.Grocery[data.label == 5], c='red', s=60)\n",
        "plt.xlabel('Fresh')\n",
        "plt.ylabel('Grocery')\n",
        "plt.show()"
      ],
      "execution_count": 17,
      "outputs": [
        {
          "output_type": "display_data",
          "data": {
            "image/png": "[encoded data removed]",
            "text/plain": [
              "<Figure size 432x288 with 1 Axes>"
            ]
          },
          "metadata": {
            "tags": [],
            "needs_background": "light"
          }
        }
      ]
    }
  ]
}